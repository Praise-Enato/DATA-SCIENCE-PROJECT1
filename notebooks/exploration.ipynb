{
 "cells": [
  {
   "cell_type": "markdown",
   "id": "d67c0d30",
   "metadata": {},
   "source": [
    " ## Exploration Notebook \n",
    "        \n",
    "This notebook is where we prototype data ingestion, cleaning, quality checks, and quick visualizations.\n",
    "\n",
    "**Before production-izing into `src/` folder and the Streamlit dashboard.**"
   ]
  },
  {
   "cell_type": "code",
   "execution_count": null,
   "id": "fbd4a89a",
   "metadata": {},
   "outputs": [
    {
     "name": "stdout",
     "output_type": "stream",
     "text": [
      "Requirement already satisfied: pandas in /home/neriss/project1-energy-analysis/praise_venv/lib/python3.12/site-packages (2.3.0)\n",
      "Requirement already satisfied: requests in /home/neriss/project1-energy-analysis/praise_venv/lib/python3.12/site-packages (2.32.4)\n",
      "Requirement already satisfied: pyyaml in /home/neriss/project1-energy-analysis/praise_venv/lib/python3.12/site-packages (6.0.2)\n",
      "Requirement already satisfied: plotly in /home/neriss/project1-energy-analysis/praise_venv/lib/python3.12/site-packages (6.2.0)\n",
      "Requirement already satisfied: streamlit in /home/neriss/project1-energy-analysis/praise_venv/lib/python3.12/site-packages (1.46.1)\n",
      "Collecting matplotlib\n",
      "  Using cached matplotlib-3.10.5-cp312-cp312-manylinux2014_x86_64.manylinux_2_17_x86_64.whl.metadata (11 kB)\n",
      "Collecting seaborn\n",
      "  Using cached seaborn-0.13.2-py3-none-any.whl.metadata (5.4 kB)\n",
      "Collecting statsmodels\n",
      "  Using cached statsmodels-0.14.5-cp312-cp312-manylinux2014_x86_64.manylinux_2_17_x86_64.manylinux_2_28_x86_64.whl.metadata (9.5 kB)\n",
      "Requirement already satisfied: numpy>=1.26.0 in /home/neriss/project1-energy-analysis/praise_venv/lib/python3.12/site-packages (from pandas) (2.3.1)\n",
      "Requirement already satisfied: python-dateutil>=2.8.2 in /home/neriss/project1-energy-analysis/praise_venv/lib/python3.12/site-packages (from pandas) (2.9.0.post0)\n",
      "Requirement already satisfied: pytz>=2020.1 in /home/neriss/project1-energy-analysis/praise_venv/lib/python3.12/site-packages (from pandas) (2025.2)\n",
      "Requirement already satisfied: tzdata>=2022.7 in /home/neriss/project1-energy-analysis/praise_venv/lib/python3.12/site-packages (from pandas) (2025.2)\n",
      "Requirement already satisfied: charset_normalizer<4,>=2 in /home/neriss/project1-energy-analysis/praise_venv/lib/python3.12/site-packages (from requests) (3.4.2)\n",
      "Requirement already satisfied: idna<4,>=2.5 in /home/neriss/project1-energy-analysis/praise_venv/lib/python3.12/site-packages (from requests) (3.10)\n",
      "Requirement already satisfied: urllib3<3,>=1.21.1 in /home/neriss/project1-energy-analysis/praise_venv/lib/python3.12/site-packages (from requests) (2.2.3)\n",
      "Requirement already satisfied: certifi>=2017.4.17 in /home/neriss/project1-energy-analysis/praise_venv/lib/python3.12/site-packages (from requests) (2025.6.15)\n",
      "Requirement already satisfied: narwhals>=1.15.1 in /home/neriss/project1-energy-analysis/praise_venv/lib/python3.12/site-packages (from plotly) (1.42.1)\n",
      "Requirement already satisfied: packaging in /home/neriss/project1-energy-analysis/praise_venv/lib/python3.12/site-packages (from plotly) (25.0)\n",
      "Requirement already satisfied: altair<6,>=4.0 in /home/neriss/project1-energy-analysis/praise_venv/lib/python3.12/site-packages (from streamlit) (5.5.0)\n",
      "Requirement already satisfied: blinker<2,>=1.5.0 in /home/neriss/project1-energy-analysis/praise_venv/lib/python3.12/site-packages (from streamlit) (1.9.0)\n",
      "Requirement already satisfied: cachetools<7,>=4.0 in /home/neriss/project1-energy-analysis/praise_venv/lib/python3.12/site-packages (from streamlit) (6.1.0)\n",
      "Requirement already satisfied: click<9,>=7.0 in /home/neriss/project1-energy-analysis/praise_venv/lib/python3.12/site-packages (from streamlit) (8.2.1)\n",
      "Requirement already satisfied: pillow<12,>=7.1.0 in /home/neriss/project1-energy-analysis/praise_venv/lib/python3.12/site-packages (from streamlit) (11.3.0)\n",
      "Requirement already satisfied: protobuf<7,>=3.20 in /home/neriss/project1-energy-analysis/praise_venv/lib/python3.12/site-packages (from streamlit) (6.31.1)\n",
      "Requirement already satisfied: pyarrow>=7.0 in /home/neriss/project1-energy-analysis/praise_venv/lib/python3.12/site-packages (from streamlit) (20.0.0)\n",
      "Requirement already satisfied: tenacity<10,>=8.1.0 in /home/neriss/project1-energy-analysis/praise_venv/lib/python3.12/site-packages (from streamlit) (9.1.2)\n",
      "Requirement already satisfied: toml<2,>=0.10.1 in /home/neriss/project1-energy-analysis/praise_venv/lib/python3.12/site-packages (from streamlit) (0.10.2)\n",
      "Requirement already satisfied: typing-extensions<5,>=4.4.0 in /home/neriss/project1-energy-analysis/praise_venv/lib/python3.12/site-packages (from streamlit) (4.13.2)\n",
      "Requirement already satisfied: watchdog<7,>=2.1.5 in /home/neriss/project1-energy-analysis/praise_venv/lib/python3.12/site-packages (from streamlit) (6.0.0)\n",
      "Requirement already satisfied: gitpython!=3.1.19,<4,>=3.0.7 in /home/neriss/project1-energy-analysis/praise_venv/lib/python3.12/site-packages (from streamlit) (3.1.44)\n",
      "Requirement already satisfied: pydeck<1,>=0.8.0b4 in /home/neriss/project1-energy-analysis/praise_venv/lib/python3.12/site-packages (from streamlit) (0.9.1)\n",
      "Requirement already satisfied: tornado!=6.5.0,<7,>=6.0.3 in /home/neriss/project1-energy-analysis/praise_venv/lib/python3.12/site-packages (from streamlit) (6.5.1)\n",
      "Collecting contourpy>=1.0.1 (from matplotlib)\n",
      "  Using cached contourpy-1.3.3-cp312-cp312-manylinux_2_27_x86_64.manylinux_2_28_x86_64.whl.metadata (5.5 kB)\n",
      "Collecting cycler>=0.10 (from matplotlib)\n",
      "  Using cached cycler-0.12.1-py3-none-any.whl.metadata (3.8 kB)\n",
      "Collecting fonttools>=4.22.0 (from matplotlib)\n",
      "  Using cached fonttools-4.59.0-cp312-cp312-manylinux1_x86_64.manylinux2014_x86_64.manylinux_2_17_x86_64.manylinux_2_5_x86_64.whl.metadata (107 kB)\n",
      "Collecting kiwisolver>=1.3.1 (from matplotlib)\n",
      "  Using cached kiwisolver-1.4.8-cp312-cp312-manylinux_2_17_x86_64.manylinux2014_x86_64.whl.metadata (6.2 kB)\n",
      "Collecting pyparsing>=2.3.1 (from matplotlib)\n",
      "  Using cached pyparsing-3.2.3-py3-none-any.whl.metadata (5.0 kB)\n",
      "Collecting scipy!=1.9.2,>=1.8 (from statsmodels)\n",
      "  Using cached scipy-1.16.1-cp312-cp312-manylinux2014_x86_64.manylinux_2_17_x86_64.whl.metadata (61 kB)\n",
      "Collecting patsy>=0.5.6 (from statsmodels)\n",
      "  Using cached patsy-1.0.1-py2.py3-none-any.whl.metadata (3.3 kB)\n",
      "Requirement already satisfied: jinja2 in /home/neriss/project1-energy-analysis/praise_venv/lib/python3.12/site-packages (from altair<6,>=4.0->streamlit) (3.1.6)\n",
      "Requirement already satisfied: jsonschema>=3.0 in /home/neriss/project1-energy-analysis/praise_venv/lib/python3.12/site-packages (from altair<6,>=4.0->streamlit) (4.23.0)\n",
      "Requirement already satisfied: gitdb<5,>=4.0.1 in /home/neriss/project1-energy-analysis/praise_venv/lib/python3.12/site-packages (from gitpython!=3.1.19,<4,>=3.0.7->streamlit) (4.0.12)\n",
      "Requirement already satisfied: six>=1.5 in /home/neriss/project1-energy-analysis/praise_venv/lib/python3.12/site-packages (from python-dateutil>=2.8.2->pandas) (1.17.0)\n",
      "Requirement already satisfied: smmap<6,>=3.0.1 in /home/neriss/project1-energy-analysis/praise_venv/lib/python3.12/site-packages (from gitdb<5,>=4.0.1->gitpython!=3.1.19,<4,>=3.0.7->streamlit) (5.0.2)\n",
      "Requirement already satisfied: MarkupSafe>=2.0 in /home/neriss/project1-energy-analysis/praise_venv/lib/python3.12/site-packages (from jinja2->altair<6,>=4.0->streamlit) (2.1.5)\n",
      "Requirement already satisfied: attrs>=22.2.0 in /home/neriss/project1-energy-analysis/praise_venv/lib/python3.12/site-packages (from jsonschema>=3.0->altair<6,>=4.0->streamlit) (25.3.0)\n",
      "Requirement already satisfied: jsonschema-specifications>=2023.03.6 in /home/neriss/project1-energy-analysis/praise_venv/lib/python3.12/site-packages (from jsonschema>=3.0->altair<6,>=4.0->streamlit) (2023.12.1)\n",
      "Requirement already satisfied: referencing>=0.28.4 in /home/neriss/project1-energy-analysis/praise_venv/lib/python3.12/site-packages (from jsonschema>=3.0->altair<6,>=4.0->streamlit) (0.35.1)\n",
      "Requirement already satisfied: rpds-py>=0.7.1 in /home/neriss/project1-energy-analysis/praise_venv/lib/python3.12/site-packages (from jsonschema>=3.0->altair<6,>=4.0->streamlit) (0.20.1)\n",
      "Using cached matplotlib-3.10.5-cp312-cp312-manylinux2014_x86_64.manylinux_2_17_x86_64.whl (8.7 MB)\n",
      "Using cached seaborn-0.13.2-py3-none-any.whl (294 kB)\n",
      "Using cached statsmodels-0.14.5-cp312-cp312-manylinux2014_x86_64.manylinux_2_17_x86_64.manylinux_2_28_x86_64.whl (10.4 MB)\n",
      "Using cached contourpy-1.3.3-cp312-cp312-manylinux_2_27_x86_64.manylinux_2_28_x86_64.whl (362 kB)\n",
      "Using cached cycler-0.12.1-py3-none-any.whl (8.3 kB)\n",
      "Using cached fonttools-4.59.0-cp312-cp312-manylinux1_x86_64.manylinux2014_x86_64.manylinux_2_17_x86_64.manylinux_2_5_x86_64.whl (4.9 MB)\n",
      "Using cached kiwisolver-1.4.8-cp312-cp312-manylinux_2_17_x86_64.manylinux2014_x86_64.whl (1.5 MB)\n",
      "Using cached patsy-1.0.1-py2.py3-none-any.whl (232 kB)\n",
      "Using cached pyparsing-3.2.3-py3-none-any.whl (111 kB)\n",
      "Downloading scipy-1.16.1-cp312-cp312-manylinux2014_x86_64.manylinux_2_17_x86_64.whl (35.2 MB)\n",
      "\u001b[2K   \u001b[91m━━━━━━━━━━━━━━━\u001b[0m\u001b[90m╺\u001b[0m\u001b[90m━━━━━━━━━━━━━━━━━━━━━━━━\u001b[0m \u001b[32m13.3/35.2 MB\u001b[0m \u001b[31m17.1 kB/s\u001b[0m eta \u001b[36m0:21:19\u001b[0m"
     ]
    }
   ],
   "source": [
    "# Install Dependencies\n",
    "\n",
    "!pip install pandas requests pyyaml plotly streamlit matplotlib seaborn statsmodels"
   ]
  },
  {
   "cell_type": "code",
   "execution_count": 15,
   "id": "ce036c84",
   "metadata": {},
   "outputs": [],
   "source": [
    "import sys\n",
    "from pathlib import Path\n",
    "\n",
    "# add src/ to import path so we can import our modules\n",
    "sys.path.append(str(Path(\"../src\").resolve()))\n",
    "\n",
    "import pandas as pd\n",
    "import requests\n",
    "import yaml\n",
    "import plotly\n",
    "\n",
    "from data_fetcher import fetch_historical_weather, fetch_historical_energy\n",
    "from data_processor import clean_weather, clean_energy, merge_weather_energy\n",
    "from data_quality_report import generate_report\n"
   ]
  },
  {
   "cell_type": "code",
   "execution_count": null,
   "id": "f18829ec",
   "metadata": {},
   "outputs": [],
   "source": [
    "# Load API keys & city list\n",
    "config = yaml.safe_load(open(\"../config/config.yaml\"))\n",
    "config\n"
   ]
  },
  {
   "cell_type": "code",
   "execution_count": null,
   "id": "05554f16",
   "metadata": {},
   "outputs": [],
   "source": [
    "# Pick first city for prototyping\n",
    "city = config[\"cities\"][0]\n",
    "slug = city[\"name\"].lower().replace(\" \", \"_\")\n",
    "\n",
    "# Fetch raw weather and energy\n",
    "df_w = fetch_historical_weather(\n",
    "    station_id=city[\"station_id\"],\n",
    "    days=90,\n",
    "    token=config[\"noaa_token\"]\n",
    ")\n",
    "df_e = fetch_historical_energy(\n",
    "    region=city[\"region\"],\n",
    "    days=90,\n",
    "    api_key=config[\"eia_key\"]\n",
    ")\n",
    "\n",
    "# Preview\n",
    "df_w.head(), df_e.head()\n"
   ]
  },
  {
   "cell_type": "code",
   "execution_count": null,
   "id": "781bf445",
   "metadata": {},
   "outputs": [],
   "source": [
    "print(f\"Weather shape: {df_w.shape}, Energy shape: {df_e.shape}\")\n",
    "print(\"Missing in weather:\\n\", df_w.isna().sum())\n",
    "print(\"Missing in energy:\\n\", df_e.isna().sum())\n"
   ]
  },
  {
   "cell_type": "code",
   "execution_count": null,
   "id": "f16a0448",
   "metadata": {},
   "outputs": [],
   "source": [
    "# Clean and merge\n",
    "cw = clean_weather(df_w)\n",
    "ce = clean_energy(df_e)\n",
    "df_combined = merge_weather_energy(cw, ce)\n",
    "\n",
    "# Preview\n",
    "df_combined.head()\n"
   ]
  },
  {
   "cell_type": "code",
   "execution_count": null,
   "id": "f242f90f",
   "metadata": {},
   "outputs": [],
   "source": [
    "print(f\"Processed shape: {df_combined.shape}\")\n",
    "print(\"Processed missing:\\n\", df_combined.isna().sum())\n"
   ]
  },
  {
   "cell_type": "code",
   "execution_count": null,
   "id": "11229219",
   "metadata": {},
   "outputs": [],
   "source": [
    "# Generate data quality report\n",
    "import json\n",
    "\n",
    "report = generate_report()\n",
    "print(json.dumps(report, indent=2))\n"
   ]
  },
  {
   "cell_type": "code",
   "execution_count": null,
   "id": "bfd89366",
   "metadata": {},
   "outputs": [],
   "source": [
    "# Visualize TMAX vs Demand using Plotly\n",
    "import plotly.express as px\n",
    "\n",
    "fig = px.scatter(\n",
    "    df_combined,\n",
    "    x=\"TMAX\", y=\"demand\",\n",
    "    trendline=\"ols\",\n",
    "    title=\"TMAX vs Demand\"\n",
    ")\n",
    "fig.show()\n"
   ]
  },
  {
   "cell_type": "code",
   "execution_count": null,
   "id": "f8b3f4a3",
   "metadata": {},
   "outputs": [],
   "source": [
    "# Visualize TMAX vs Demand using Matplotlib\n",
    "import matplotlib.pyplot as plt\n",
    "\n",
    "fig, ax1 = plt.subplots(figsize=(10,5))\n",
    "ax2 = ax1.twinx()\n",
    "\n",
    "ax1.plot(df_combined[\"date\"], df_combined[\"TMAX\"], label=\"TMAX\", color=\"tab:blue\")\n",
    "ax2.plot(df_combined[\"date\"], df_combined[\"demand\"], label=\"Demand\", linestyle=\"--\", color=\"tab:red\")\n",
    "\n",
    "ax1.set_xlabel(\"Date\")\n",
    "ax1.set_ylabel(\"Temperature (°F)\", color=\"tab:blue\")\n",
    "ax2.set_ylabel(\"Demand\", color=\"tab:red\")\n",
    "plt.title(\"Daily Temperature & Energy Demand\")\n",
    "ax1.legend(loc=\"upper left\")\n",
    "ax2.legend(loc=\"upper right\")\n",
    "plt.show()\n"
   ]
  },
  {
   "cell_type": "code",
   "execution_count": null,
   "id": "e7aec665",
   "metadata": {},
   "outputs": [],
   "source": [
    "# Visualize Avg Demand by Temp Bin & Weekday using Seaborn\n",
    "import seaborn as sns\n",
    "import matplotlib.pyplot as plt\n",
    "\n",
    "df_h = df_combined.copy()\n",
    "df_h[\"weekday\"] = df_h[\"date\"].dt.day_name()\n",
    "df_h[\"temp_bin\"] = pd.cut(\n",
    "    (df_h[\"TMAX\"] + df_h[\"TMIN\"]) / 2,\n",
    "    bins=[-float(\"inf\"), 50, 60, 70, 80, 90, float(\"inf\")],\n",
    "    labels=[\"<50°F\",\"50-60°F\",\"60-70°F\",\"70-80°F\",\"80-90°F\",\">90°F\"]\n",
    ")\n",
    "\n",
    "pivot = df_h.groupby([\"temp_bin\",\"weekday\"])[\"demand\"] \\\n",
    "    .mean().reset_index().pivot(index=\"temp_bin\", columns=\"weekday\", values=\"demand\")\n",
    "\n",
    "plt.figure(figsize=(8,6))\n",
    "sns.heatmap(pivot, annot=True, fmt=\".0f\", cmap=\"coolwarm\")\n",
    "plt.title(\"Avg Demand by Temp Bin & Weekday\")\n",
    "plt.show()\n"
   ]
  },
  {
   "cell_type": "code",
   "execution_count": null,
   "id": "f6de4436",
   "metadata": {},
   "outputs": [],
   "source": [
    "# Visualize Demand by City using Plotly\n",
    "import plotly.express as px\n",
    "\n",
    "city_coords = {\n",
    "    \"new_york\": {\"lat\":40.7128, \"lon\":-74.0060},\n",
    "    \"chicago\":  {\"lat\":41.8781, \"lon\":-87.6298},\n",
    "    \"houston\":  {\"lat\":29.7604, \"lon\":-95.3698},\n",
    "    \"phoenix\":  {\"lat\":33.4484, \"lon\":-112.0740},\n",
    "    \"seattle\":  {\"lat\":47.6062, \"lon\":-122.3321},\n",
    "}\n",
    "\n",
    "# Build DataFrame of the latest demand per city\n",
    "map_rows = []\n",
    "latest = df_combined.iloc[-1]  # for one city demo\n",
    "map_rows.append({\n",
    "    \"City\": city[\"name\"],\n",
    "    \"lat\": city_coords[slug][\"lat\"],\n",
    "    \"lon\": city_coords[slug][\"lon\"],\n",
    "    \"demand\": latest.demand\n",
    "})\n",
    "map_df = pd.DataFrame(map_rows)\n",
    "\n",
    "fig_map = px.scatter_geo(\n",
    "    map_df,\n",
    "    lat=\"lat\", lon=\"lon\",\n",
    "    scope=\"usa\",\n",
    "    size=\"demand\",\n",
    "    hover_name=\"City\"\n",
    ")\n",
    "fig_map.show()\n"
   ]
  }
 ],
 "metadata": {
  "kernelspec": {
   "display_name": "praise_venv (3.12.3)",
   "language": "python",
   "name": "python3"
  },
  "language_info": {
   "codemirror_mode": {
    "name": "ipython",
    "version": 3
   },
   "file_extension": ".py",
   "mimetype": "text/x-python",
   "name": "python",
   "nbconvert_exporter": "python",
   "pygments_lexer": "ipython3",
   "version": "3.12.3"
  }
 },
 "nbformat": 4,
 "nbformat_minor": 5
}
