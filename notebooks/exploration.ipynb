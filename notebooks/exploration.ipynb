{
 "cells": [
  {
   "cell_type": "markdown",
   "id": "d67c0d30",
   "metadata": {},
   "source": [
    " ## Exploration Notebook \n",
    "        \n",
    "This notebook is where we prototype data ingestion, cleaning, quality checks, and quick visualizations.\n",
    "\n",
    "**Before production-izing into `src/` folder and the Streamlit dashboard.**"
   ]
  },
  {
   "cell_type": "code",
   "execution_count": null,
   "id": "fbd4a89a",
   "metadata": {},
   "outputs": [],
   "source": [
    "# Install Dependencies\n",
    "\n",
    "!pip install pandas requests pyyaml plotly streamlit matplotlib seaborn statsmodels nbformat ipython\n"
   ]
  },
  {
   "cell_type": "code",
   "execution_count": 2,
   "id": "ce036c84",
   "metadata": {},
   "outputs": [],
   "source": [
    "import sys\n",
    "from pathlib import Path\n",
    "\n",
    "# add src/ to import path so we can import our modules\n",
    "sys.path.append(str(Path(\"../src\").resolve()))\n",
    "\n",
    "import pandas as pd\n",
    "import requests\n",
    "import yaml\n",
    "\n",
    "\n",
    "from data_fetcher import fetch_historical_weather, fetch_historical_energy\n",
    "from data_processor import clean_weather, clean_energy, merge_weather_energy\n",
    "from data_quality_report import generate_report\n"
   ]
  },
  {
   "cell_type": "code",
   "execution_count": 3,
   "id": "f18829ec",
   "metadata": {},
   "outputs": [
    {
     "data": {
      "text/plain": [
       "{'noaa_token': 'hnEImeHklWePrAQiNbFMvcUgwOBFTHKW',\n",
       " 'eia_key': '7nwnphm8ojtAysdsf7Yr8SsifByzVtR4CjeG77TF',\n",
       " 'cities': [{'name': 'New York',\n",
       "   'station_id': 'GHCND:USW00094728',\n",
       "   'region': 'NYIS'},\n",
       "  {'name': 'Chicago', 'station_id': 'GHCND:USW00094846', 'region': 'PJM'},\n",
       "  {'name': 'Houston', 'station_id': 'GHCND:USW00012960', 'region': 'ERCO'},\n",
       "  {'name': 'Phoenix', 'station_id': 'GHCND:USW00023183', 'region': 'AZPS'},\n",
       "  {'name': 'Seattle', 'station_id': 'GHCND:USW00024233', 'region': 'CISO'}]}"
      ]
     },
     "execution_count": 3,
     "metadata": {},
     "output_type": "execute_result"
    }
   ],
   "source": [
    "# Load API keys & city list\n",
    "config = yaml.safe_load(open(\"../config/config.yaml\"))\n",
    "config\n"
   ]
  },
  {
   "cell_type": "code",
   "execution_count": 5,
   "id": "05554f16",
   "metadata": {},
   "outputs": [
    {
     "data": {
      "text/plain": [
       "(datatype                 date   TMAX   TMIN\n",
       " 0         2025-05-05T00:00:00  60.98  57.02\n",
       " 1         2025-05-06T00:00:00  64.04  57.02\n",
       " 2         2025-05-07T00:00:00  73.94  55.04\n",
       " 3         2025-05-08T00:00:00  78.08  60.08\n",
       " 4         2025-05-09T00:00:00  60.08  51.08,\n",
       "          date respondent                       respondent-name type type-name  \\\n",
       " 0  2025-05-06       NYIS  New York Independent System Operator    D    Demand   \n",
       " 1  2025-05-06       NYIS  New York Independent System Operator    D    Demand   \n",
       " 2  2025-05-06       NYIS  New York Independent System Operator    D    Demand   \n",
       " 3  2025-05-06       NYIS  New York Independent System Operator    D    Demand   \n",
       " 4  2025-05-06       NYIS  New York Independent System Operator    D    Demand   \n",
       " \n",
       "    timezone timezone-description  demand    value-units  \n",
       " 0   Arizona              Arizona  360106  megawatthours  \n",
       " 1   Central              Central  362853  megawatthours  \n",
       " 2   Eastern              Eastern  365045  megawatthours  \n",
       " 3  Mountain             Mountain  360192  megawatthours  \n",
       " 4   Pacific              Pacific  360106  megawatthours  )"
      ]
     },
     "execution_count": 5,
     "metadata": {},
     "output_type": "execute_result"
    }
   ],
   "source": [
    "# Pick first city for prototyping\n",
    "city = config[\"cities\"][0]\n",
    "slug = city[\"name\"].lower().replace(\" \", \"_\")\n",
    "\n",
    "# Fetch raw weather and energy\n",
    "df_w = fetch_historical_weather(\n",
    "    station_id=city[\"station_id\"],\n",
    "    days=90,\n",
    "    token=config[\"noaa_token\"]\n",
    ")\n",
    "df_e = fetch_historical_energy(\n",
    "    region=city[\"region\"],\n",
    "    days=90,\n",
    "    api_key=config[\"eia_key\"]\n",
    ")\n",
    "\n",
    "# Preview\n",
    "df_w.head(), df_e.head()\n"
   ]
  },
  {
   "cell_type": "code",
   "execution_count": 6,
   "id": "781bf445",
   "metadata": {},
   "outputs": [
    {
     "name": "stdout",
     "output_type": "stream",
     "text": [
      "Weather shape: (86, 3), Energy shape: (1759, 9)\n",
      "Missing in weather:\n",
      " datatype\n",
      "date    0\n",
      "TMAX    0\n",
      "TMIN    0\n",
      "dtype: int64\n",
      "Missing in energy:\n",
      " date                    0\n",
      "respondent              0\n",
      "respondent-name         0\n",
      "type                    0\n",
      "type-name               0\n",
      "timezone                0\n",
      "timezone-description    0\n",
      "demand                  0\n",
      "value-units             0\n",
      "dtype: int64\n"
     ]
    }
   ],
   "source": [
    "print(f\"Weather shape: {df_w.shape}, Energy shape: {df_e.shape}\")\n",
    "print(\"Missing in weather:\\n\", df_w.isna().sum())\n",
    "print(\"Missing in energy:\\n\", df_e.isna().sum())\n"
   ]
  },
  {
   "cell_type": "code",
   "execution_count": 7,
   "id": "f16a0448",
   "metadata": {},
   "outputs": [
    {
     "data": {
      "application/vnd.microsoft.datawrangler.viewer.v0+json": {
       "columns": [
        {
         "name": "index",
         "rawType": "int64",
         "type": "integer"
        },
        {
         "name": "date",
         "rawType": "datetime64[ns]",
         "type": "datetime"
        },
        {
         "name": "TMAX",
         "rawType": "float64",
         "type": "float"
        },
        {
         "name": "TMIN",
         "rawType": "float64",
         "type": "float"
        },
        {
         "name": "respondent",
         "rawType": "object",
         "type": "string"
        },
        {
         "name": "respondent-name",
         "rawType": "object",
         "type": "string"
        },
        {
         "name": "type",
         "rawType": "object",
         "type": "string"
        },
        {
         "name": "type-name",
         "rawType": "object",
         "type": "string"
        },
        {
         "name": "timezone",
         "rawType": "object",
         "type": "string"
        },
        {
         "name": "timezone-description",
         "rawType": "object",
         "type": "string"
        },
        {
         "name": "demand",
         "rawType": "object",
         "type": "string"
        },
        {
         "name": "value-units",
         "rawType": "object",
         "type": "string"
        }
       ],
       "ref": "5b2eaa0f-3234-473a-967b-81fbf7570e03",
       "rows": [
        [
         "0",
         "2025-05-06 00:00:00",
         "64.04",
         "57.02",
         "NYIS",
         "New York Independent System Operator",
         "D",
         "Demand",
         "Arizona",
         "Arizona",
         "360106",
         "megawatthours"
        ],
        [
         "1",
         "2025-05-07 00:00:00",
         "73.94",
         "55.04",
         "NYIS",
         "New York Independent System Operator",
         "D",
         "Demand",
         "Arizona",
         "Arizona",
         "357887",
         "megawatthours"
        ],
        [
         "2",
         "2025-05-08 00:00:00",
         "78.08",
         "60.08",
         "NYIS",
         "New York Independent System Operator",
         "D",
         "Demand",
         "Arizona",
         "Arizona",
         "369593",
         "megawatthours"
        ],
        [
         "3",
         "2025-05-09 00:00:00",
         "60.08",
         "51.08",
         "NYIS",
         "New York Independent System Operator",
         "D",
         "Demand",
         "Arizona",
         "Arizona",
         "371722",
         "megawatthours"
        ],
        [
         "4",
         "2025-05-10 00:00:00",
         "71.96",
         "50.0",
         "NYIS",
         "New York Independent System Operator",
         "D",
         "Demand",
         "Arizona",
         "Arizona",
         "318627",
         "megawatthours"
        ]
       ],
       "shape": {
        "columns": 11,
        "rows": 5
       }
      },
      "text/html": [
       "<div>\n",
       "<style scoped>\n",
       "    .dataframe tbody tr th:only-of-type {\n",
       "        vertical-align: middle;\n",
       "    }\n",
       "\n",
       "    .dataframe tbody tr th {\n",
       "        vertical-align: top;\n",
       "    }\n",
       "\n",
       "    .dataframe thead th {\n",
       "        text-align: right;\n",
       "    }\n",
       "</style>\n",
       "<table border=\"1\" class=\"dataframe\">\n",
       "  <thead>\n",
       "    <tr style=\"text-align: right;\">\n",
       "      <th></th>\n",
       "      <th>date</th>\n",
       "      <th>TMAX</th>\n",
       "      <th>TMIN</th>\n",
       "      <th>respondent</th>\n",
       "      <th>respondent-name</th>\n",
       "      <th>type</th>\n",
       "      <th>type-name</th>\n",
       "      <th>timezone</th>\n",
       "      <th>timezone-description</th>\n",
       "      <th>demand</th>\n",
       "      <th>value-units</th>\n",
       "    </tr>\n",
       "  </thead>\n",
       "  <tbody>\n",
       "    <tr>\n",
       "      <th>0</th>\n",
       "      <td>2025-05-06</td>\n",
       "      <td>64.04</td>\n",
       "      <td>57.02</td>\n",
       "      <td>NYIS</td>\n",
       "      <td>New York Independent System Operator</td>\n",
       "      <td>D</td>\n",
       "      <td>Demand</td>\n",
       "      <td>Arizona</td>\n",
       "      <td>Arizona</td>\n",
       "      <td>360106</td>\n",
       "      <td>megawatthours</td>\n",
       "    </tr>\n",
       "    <tr>\n",
       "      <th>1</th>\n",
       "      <td>2025-05-07</td>\n",
       "      <td>73.94</td>\n",
       "      <td>55.04</td>\n",
       "      <td>NYIS</td>\n",
       "      <td>New York Independent System Operator</td>\n",
       "      <td>D</td>\n",
       "      <td>Demand</td>\n",
       "      <td>Arizona</td>\n",
       "      <td>Arizona</td>\n",
       "      <td>357887</td>\n",
       "      <td>megawatthours</td>\n",
       "    </tr>\n",
       "    <tr>\n",
       "      <th>2</th>\n",
       "      <td>2025-05-08</td>\n",
       "      <td>78.08</td>\n",
       "      <td>60.08</td>\n",
       "      <td>NYIS</td>\n",
       "      <td>New York Independent System Operator</td>\n",
       "      <td>D</td>\n",
       "      <td>Demand</td>\n",
       "      <td>Arizona</td>\n",
       "      <td>Arizona</td>\n",
       "      <td>369593</td>\n",
       "      <td>megawatthours</td>\n",
       "    </tr>\n",
       "    <tr>\n",
       "      <th>3</th>\n",
       "      <td>2025-05-09</td>\n",
       "      <td>60.08</td>\n",
       "      <td>51.08</td>\n",
       "      <td>NYIS</td>\n",
       "      <td>New York Independent System Operator</td>\n",
       "      <td>D</td>\n",
       "      <td>Demand</td>\n",
       "      <td>Arizona</td>\n",
       "      <td>Arizona</td>\n",
       "      <td>371722</td>\n",
       "      <td>megawatthours</td>\n",
       "    </tr>\n",
       "    <tr>\n",
       "      <th>4</th>\n",
       "      <td>2025-05-10</td>\n",
       "      <td>71.96</td>\n",
       "      <td>50.00</td>\n",
       "      <td>NYIS</td>\n",
       "      <td>New York Independent System Operator</td>\n",
       "      <td>D</td>\n",
       "      <td>Demand</td>\n",
       "      <td>Arizona</td>\n",
       "      <td>Arizona</td>\n",
       "      <td>318627</td>\n",
       "      <td>megawatthours</td>\n",
       "    </tr>\n",
       "  </tbody>\n",
       "</table>\n",
       "</div>"
      ],
      "text/plain": [
       "        date   TMAX   TMIN respondent                       respondent-name  \\\n",
       "0 2025-05-06  64.04  57.02       NYIS  New York Independent System Operator   \n",
       "1 2025-05-07  73.94  55.04       NYIS  New York Independent System Operator   \n",
       "2 2025-05-08  78.08  60.08       NYIS  New York Independent System Operator   \n",
       "3 2025-05-09  60.08  51.08       NYIS  New York Independent System Operator   \n",
       "4 2025-05-10  71.96  50.00       NYIS  New York Independent System Operator   \n",
       "\n",
       "  type type-name timezone timezone-description  demand    value-units  \n",
       "0    D    Demand  Arizona              Arizona  360106  megawatthours  \n",
       "1    D    Demand  Arizona              Arizona  357887  megawatthours  \n",
       "2    D    Demand  Arizona              Arizona  369593  megawatthours  \n",
       "3    D    Demand  Arizona              Arizona  371722  megawatthours  \n",
       "4    D    Demand  Arizona              Arizona  318627  megawatthours  "
      ]
     },
     "execution_count": 7,
     "metadata": {},
     "output_type": "execute_result"
    }
   ],
   "source": [
    "# Clean and merge\n",
    "cw = clean_weather(df_w)\n",
    "ce = clean_energy(df_e)\n",
    "df_combined = merge_weather_energy(cw, ce)\n",
    "\n",
    "# Preview\n",
    "df_combined.head()\n"
   ]
  },
  {
   "cell_type": "code",
   "execution_count": 8,
   "id": "f242f90f",
   "metadata": {},
   "outputs": [
    {
     "name": "stdout",
     "output_type": "stream",
     "text": [
      "Processed shape: (85, 11)\n",
      "Processed missing:\n",
      " date                    0\n",
      "TMAX                    0\n",
      "TMIN                    0\n",
      "respondent              0\n",
      "respondent-name         0\n",
      "type                    0\n",
      "type-name               0\n",
      "timezone                0\n",
      "timezone-description    0\n",
      "demand                  0\n",
      "value-units             0\n",
      "dtype: int64\n"
     ]
    }
   ],
   "source": [
    "print(f\"Processed shape: {df_combined.shape}\")\n",
    "print(\"Processed missing:\\n\", df_combined.isna().sum())\n"
   ]
  },
  {
   "cell_type": "code",
   "execution_count": 9,
   "id": "11229219",
   "metadata": {},
   "outputs": [
    {
     "name": "stdout",
     "output_type": "stream",
     "text": [
      "{}\n"
     ]
    }
   ],
   "source": [
    "# Generate data quality report\n",
    "import json\n",
    "\n",
    "report = generate_report()\n",
    "print(json.dumps(report, indent=2))\n"
   ]
  },
  {
   "cell_type": "code",
   "execution_count": 10,
   "id": "bfd89366",
   "metadata": {},
   "outputs": [
    {
     "data": {
      "application/vnd.plotly.v1+json": {
       "config": {
        "plotlyServerURL": "https://plot.ly"
       },
       "data": [
        {
         "hovertemplate": "TMAX=%{x}<br>demand=%{y}<extra></extra>",
         "legendgroup": "",
         "marker": {
          "color": "#636efa",
          "symbol": "circle"
         },
         "mode": "markers",
         "name": "",
         "orientation": "h",
         "showlegend": false,
         "type": "scatter",
         "x": {
          "bdata": "w/UoXI8CUEBcj8L1KHxSQIXrUbgehVNACtejcD0KTkA9CtejcP1RQAAAAAAAQFNAPQrXo3D9UUCF61G4HkVRQEfhehSuB09AhetRuB5FUUA9CtejcP1RQMP1KFyPglRAw/UoXI9CUkCF61G4HkVRQHsUrkfhulBAAAAAAACATUAK16NwPYpJQHoUrkfhek9Aw/UoXI8CUEDhehSuR4FQQMP1KFyPQlJAXI/C9Sh8UkBcj8L1KDxQQHsUrkfhulBA4XoUrkfBUkB7FK5H4bpQQOF6FK5HgVBApHA9CtfDUUAfhetRuL5TQFyPwvUovFRAhutRuB7FVUDhehSuRwFVQHsUrkfh+lJAexSuR+H6UkDD9ShcjwJQQMP1KFyPQlJAPQrXo3A9VECG61G4HsVVQIXrUbgehVNAAAAAAAAAUUDD9ShcjwJQQIXrUbgeRVFAexSuR+G6UEDhehSuRwFVQB+F61G4/lVAw/UoXI+CVEAAAAAAAIBVQB+F61G4/lVAhutRuB4FWEA+CtejcL1YQIbrUbgeBVhAehSuR+E6VUA9CtejcP1RQFyPwvUovFRApHA9CtdDVkA+CtejcH1WQKRwPQrXQ1ZA4XoUrkcBVUAfhetRuP5VQFyPwvUovFRA4XoUrkcBVUCG61G4HsVVQIbrUbgexVVA4XoUrkdBV0A+CtejcH1WQOF6FK5HAVVA4XoUrkcBVUBcj8L1KLxUQFyPwvUovFRAehSuR+E6VUAAAAAAAIBVQIbrUbgexVVAPgrXo3B9VkDD9Shcj4JUQD0K16NwPVRAH4XrUbj+VUB6FK5H4TpVQD0K16NwPVRApHA9CtcDVECG61G4HsVVQAAAAAAAwFdAehSuR+E6VUDhehSuRwFVQHoUrkfheldAH4XrUbg+WEA=",
          "dtype": "f8"
         },
         "xaxis": "x",
         "y": [
          "360106",
          "357887",
          "369593",
          "371722",
          "318627",
          "314294",
          "351424",
          "371435",
          "374930",
          "379942",
          "382250",
          "370178",
          "350246",
          "352738",
          "345052",
          "370697",
          "374864",
          "364713",
          "329213",
          "317380",
          "315288",
          "354571",
          "358824",
          "364646",
          "365737",
          "345111",
          "320973",
          "340841",
          "363595",
          "403374",
          "454411",
          "458228",
          "402867",
          "371066",
          "393348",
          "392609",
          "411978",
          "444615",
          "406317",
          "357259",
          "346007",
          "387018",
          "405003",
          "447644",
          "486523",
          "443986",
          "460139",
          "506129",
          "611051",
          "637696",
          "628769",
          "485906",
          "423031",
          "444680",
          "479722",
          "536985",
          "550254",
          "509100",
          "488481",
          "411270",
          "445794",
          "506101",
          "566605",
          "572908",
          "557217",
          "527963",
          "535035",
          "514307",
          "511525",
          "553017",
          "556763",
          "592140",
          "589724",
          "482873",
          "458594",
          "509431",
          "487180",
          "441587",
          "470924",
          "532796",
          "575801",
          "496179",
          "501539",
          "582872",
          "613515"
         ],
         "yaxis": "y"
        },
        {
         "hovertemplate": "<b>OLS trendline</b><br>demand = 7295.35 * TMAX + -132508<br>R<sup>2</sup>=0.723033<br><br>TMAX=%{x}<br>demand=%{y} <b>(trend)</b><extra></extra>",
         "legendgroup": "",
         "marker": {
          "color": "#636efa",
          "symbol": "circle"
         },
         "mode": "lines",
         "name": "",
         "showlegend": false,
         "type": "scatter",
         "x": {
          "bdata": "CtejcD2KSUAAAAAAAIBNQArXo3A9Ck5AR+F6FK4HT0B6FK5H4XpPQMP1KFyPAlBAw/UoXI8CUEDD9ShcjwJQQMP1KFyPAlBAXI/C9Sg8UEDhehSuR4FQQOF6FK5HgVBAexSuR+G6UEB7FK5H4bpQQHsUrkfhulBAexSuR+G6UEAAAAAAAABRQIXrUbgeRVFAhetRuB5FUUCF61G4HkVRQIXrUbgeRVFApHA9CtfDUUA9CtejcP1RQD0K16Nw/VFAPQrXo3D9UUA9CtejcP1RQMP1KFyPQlJAw/UoXI9CUkDD9Shcj0JSQFyPwvUofFJAXI/C9Sh8UkDhehSuR8FSQHsUrkfh+lJAexSuR+H6UkAAAAAAAEBTQIXrUbgehVNAhetRuB6FU0AfhetRuL5TQKRwPQrXA1RAPQrXo3A9VEA9CtejcD1UQD0K16NwPVRAw/UoXI+CVEDD9Shcj4JUQMP1KFyPglRAXI/C9Si8VEBcj8L1KLxUQFyPwvUovFRAXI/C9Si8VEBcj8L1KLxUQOF6FK5HAVVA4XoUrkcBVUDhehSuRwFVQOF6FK5HAVVA4XoUrkcBVUDhehSuRwFVQOF6FK5HAVVAehSuR+E6VUB6FK5H4TpVQHoUrkfhOlVAehSuR+E6VUAAAAAAAIBVQAAAAAAAgFVAhutRuB7FVUCG61G4HsVVQIbrUbgexVVAhutRuB7FVUCG61G4HsVVQIbrUbgexVVAH4XrUbj+VUAfhetRuP5VQB+F61G4/lVAH4XrUbj+VUCkcD0K10NWQKRwPQrXQ1ZAPgrXo3B9VkA+CtejcH1WQD4K16NwfVZA4XoUrkdBV0B6FK5H4XpXQAAAAAAAwFdAhutRuB4FWECG61G4HgVYQB+F61G4PlhAPgrXo3C9WEA=",
          "dtype": "f8"
         },
         "xaxis": "x",
         "y": {
          "bdata": "gB74PFZQDUH6tULB9y4SQZ9v6agTqhJBTRmb0caLE0FWCaYSXvITQfzCTPp5bRRB/MJM+nltFEH8wkz6eW0UQfzCTPp5bRRBBbNXOxHUFEGqbP4iLU8VQaps/iItTxVBtFwJZMS1FUG0XAlkxLUVQbRcCWTEtRVBtFwJZMS1FUFYFrBL4DAWQf3PVjP8qxZB/c9WM/yrFkH9z1Yz/KsWQf3PVjP8qxZBrHkIXK+NF0G1aROdRvQXQbVpE51G9BdBtWkTnUb0F0G1aROdRvQXQVsjuoRibxhBWyO6hGJvGEFbI7qEYm8YQWMTxcX51RhBYxPFxfnVGEEJzWutFVEZQRO9du6stxlBE7127qy3GUG3dh3WyDIaQVswxL3krRpBWzDEveStGkFlIM/+exQbQQvadeaXjxtBE8qAJy/2G0ETyoAnL/YbQRPKgCcv9htBuYMnD0txHEG5gycPS3EcQbmDJw9LcRxBwXMyUOLXHEHBczJQ4tccQcFzMlDi1xxBwXMyUOLXHEHBczJQ4tccQWct2Tf+Uh1BZy3ZN/5SHUFnLdk3/lIdQWct2Tf+Uh1BZy3ZN/5SHUFnLdk3/lIdQWct2Tf+Uh1Bbx3keJW5HUFvHeR4lbkdQW8d5HiVuR1Bbx3keJW5HUEV14pgsTQeQRXXimCxNB5Bu5AxSM2vHkG7kDFIza8eQbuQMUjNrx5Bu5AxSM2vHkG7kDFIza8eQbuQMUjNrx5BxYA8iWQWH0HFgDyJZBYfQcWAPIlkFh9BxYA8iWQWH0FpOuNwgJEfQWk643CAkR9BcyrusRf4H0FzKu6xF/gfQXMq7rEX+B9B4kYjYXOqIEHmvqgBv90gQbobfPVMGyFBjnhP6dpYIUGOeE/p2lghQZLw1IkmjCFBaMUtHgD9IUE=",
          "dtype": "f8"
         },
         "yaxis": "y"
        }
       ],
       "layout": {
        "legend": {
         "tracegroupgap": 0
        },
        "template": {
         "data": {
          "bar": [
           {
            "error_x": {
             "color": "#2a3f5f"
            },
            "error_y": {
             "color": "#2a3f5f"
            },
            "marker": {
             "line": {
              "color": "#E5ECF6",
              "width": 0.5
             },
             "pattern": {
              "fillmode": "overlay",
              "size": 10,
              "solidity": 0.2
             }
            },
            "type": "bar"
           }
          ],
          "barpolar": [
           {
            "marker": {
             "line": {
              "color": "#E5ECF6",
              "width": 0.5
             },
             "pattern": {
              "fillmode": "overlay",
              "size": 10,
              "solidity": 0.2
             }
            },
            "type": "barpolar"
           }
          ],
          "carpet": [
           {
            "aaxis": {
             "endlinecolor": "#2a3f5f",
             "gridcolor": "white",
             "linecolor": "white",
             "minorgridcolor": "white",
             "startlinecolor": "#2a3f5f"
            },
            "baxis": {
             "endlinecolor": "#2a3f5f",
             "gridcolor": "white",
             "linecolor": "white",
             "minorgridcolor": "white",
             "startlinecolor": "#2a3f5f"
            },
            "type": "carpet"
           }
          ],
          "choropleth": [
           {
            "colorbar": {
             "outlinewidth": 0,
             "ticks": ""
            },
            "type": "choropleth"
           }
          ],
          "contour": [
           {
            "colorbar": {
             "outlinewidth": 0,
             "ticks": ""
            },
            "colorscale": [
             [
              0,
              "#0d0887"
             ],
             [
              0.1111111111111111,
              "#46039f"
             ],
             [
              0.2222222222222222,
              "#7201a8"
             ],
             [
              0.3333333333333333,
              "#9c179e"
             ],
             [
              0.4444444444444444,
              "#bd3786"
             ],
             [
              0.5555555555555556,
              "#d8576b"
             ],
             [
              0.6666666666666666,
              "#ed7953"
             ],
             [
              0.7777777777777778,
              "#fb9f3a"
             ],
             [
              0.8888888888888888,
              "#fdca26"
             ],
             [
              1,
              "#f0f921"
             ]
            ],
            "type": "contour"
           }
          ],
          "contourcarpet": [
           {
            "colorbar": {
             "outlinewidth": 0,
             "ticks": ""
            },
            "type": "contourcarpet"
           }
          ],
          "heatmap": [
           {
            "colorbar": {
             "outlinewidth": 0,
             "ticks": ""
            },
            "colorscale": [
             [
              0,
              "#0d0887"
             ],
             [
              0.1111111111111111,
              "#46039f"
             ],
             [
              0.2222222222222222,
              "#7201a8"
             ],
             [
              0.3333333333333333,
              "#9c179e"
             ],
             [
              0.4444444444444444,
              "#bd3786"
             ],
             [
              0.5555555555555556,
              "#d8576b"
             ],
             [
              0.6666666666666666,
              "#ed7953"
             ],
             [
              0.7777777777777778,
              "#fb9f3a"
             ],
             [
              0.8888888888888888,
              "#fdca26"
             ],
             [
              1,
              "#f0f921"
             ]
            ],
            "type": "heatmap"
           }
          ],
          "histogram": [
           {
            "marker": {
             "pattern": {
              "fillmode": "overlay",
              "size": 10,
              "solidity": 0.2
             }
            },
            "type": "histogram"
           }
          ],
          "histogram2d": [
           {
            "colorbar": {
             "outlinewidth": 0,
             "ticks": ""
            },
            "colorscale": [
             [
              0,
              "#0d0887"
             ],
             [
              0.1111111111111111,
              "#46039f"
             ],
             [
              0.2222222222222222,
              "#7201a8"
             ],
             [
              0.3333333333333333,
              "#9c179e"
             ],
             [
              0.4444444444444444,
              "#bd3786"
             ],
             [
              0.5555555555555556,
              "#d8576b"
             ],
             [
              0.6666666666666666,
              "#ed7953"
             ],
             [
              0.7777777777777778,
              "#fb9f3a"
             ],
             [
              0.8888888888888888,
              "#fdca26"
             ],
             [
              1,
              "#f0f921"
             ]
            ],
            "type": "histogram2d"
           }
          ],
          "histogram2dcontour": [
           {
            "colorbar": {
             "outlinewidth": 0,
             "ticks": ""
            },
            "colorscale": [
             [
              0,
              "#0d0887"
             ],
             [
              0.1111111111111111,
              "#46039f"
             ],
             [
              0.2222222222222222,
              "#7201a8"
             ],
             [
              0.3333333333333333,
              "#9c179e"
             ],
             [
              0.4444444444444444,
              "#bd3786"
             ],
             [
              0.5555555555555556,
              "#d8576b"
             ],
             [
              0.6666666666666666,
              "#ed7953"
             ],
             [
              0.7777777777777778,
              "#fb9f3a"
             ],
             [
              0.8888888888888888,
              "#fdca26"
             ],
             [
              1,
              "#f0f921"
             ]
            ],
            "type": "histogram2dcontour"
           }
          ],
          "mesh3d": [
           {
            "colorbar": {
             "outlinewidth": 0,
             "ticks": ""
            },
            "type": "mesh3d"
           }
          ],
          "parcoords": [
           {
            "line": {
             "colorbar": {
              "outlinewidth": 0,
              "ticks": ""
             }
            },
            "type": "parcoords"
           }
          ],
          "pie": [
           {
            "automargin": true,
            "type": "pie"
           }
          ],
          "scatter": [
           {
            "fillpattern": {
             "fillmode": "overlay",
             "size": 10,
             "solidity": 0.2
            },
            "type": "scatter"
           }
          ],
          "scatter3d": [
           {
            "line": {
             "colorbar": {
              "outlinewidth": 0,
              "ticks": ""
             }
            },
            "marker": {
             "colorbar": {
              "outlinewidth": 0,
              "ticks": ""
             }
            },
            "type": "scatter3d"
           }
          ],
          "scattercarpet": [
           {
            "marker": {
             "colorbar": {
              "outlinewidth": 0,
              "ticks": ""
             }
            },
            "type": "scattercarpet"
           }
          ],
          "scattergeo": [
           {
            "marker": {
             "colorbar": {
              "outlinewidth": 0,
              "ticks": ""
             }
            },
            "type": "scattergeo"
           }
          ],
          "scattergl": [
           {
            "marker": {
             "colorbar": {
              "outlinewidth": 0,
              "ticks": ""
             }
            },
            "type": "scattergl"
           }
          ],
          "scattermap": [
           {
            "marker": {
             "colorbar": {
              "outlinewidth": 0,
              "ticks": ""
             }
            },
            "type": "scattermap"
           }
          ],
          "scattermapbox": [
           {
            "marker": {
             "colorbar": {
              "outlinewidth": 0,
              "ticks": ""
             }
            },
            "type": "scattermapbox"
           }
          ],
          "scatterpolar": [
           {
            "marker": {
             "colorbar": {
              "outlinewidth": 0,
              "ticks": ""
             }
            },
            "type": "scatterpolar"
           }
          ],
          "scatterpolargl": [
           {
            "marker": {
             "colorbar": {
              "outlinewidth": 0,
              "ticks": ""
             }
            },
            "type": "scatterpolargl"
           }
          ],
          "scatterternary": [
           {
            "marker": {
             "colorbar": {
              "outlinewidth": 0,
              "ticks": ""
             }
            },
            "type": "scatterternary"
           }
          ],
          "surface": [
           {
            "colorbar": {
             "outlinewidth": 0,
             "ticks": ""
            },
            "colorscale": [
             [
              0,
              "#0d0887"
             ],
             [
              0.1111111111111111,
              "#46039f"
             ],
             [
              0.2222222222222222,
              "#7201a8"
             ],
             [
              0.3333333333333333,
              "#9c179e"
             ],
             [
              0.4444444444444444,
              "#bd3786"
             ],
             [
              0.5555555555555556,
              "#d8576b"
             ],
             [
              0.6666666666666666,
              "#ed7953"
             ],
             [
              0.7777777777777778,
              "#fb9f3a"
             ],
             [
              0.8888888888888888,
              "#fdca26"
             ],
             [
              1,
              "#f0f921"
             ]
            ],
            "type": "surface"
           }
          ],
          "table": [
           {
            "cells": {
             "fill": {
              "color": "#EBF0F8"
             },
             "line": {
              "color": "white"
             }
            },
            "header": {
             "fill": {
              "color": "#C8D4E3"
             },
             "line": {
              "color": "white"
             }
            },
            "type": "table"
           }
          ]
         },
         "layout": {
          "annotationdefaults": {
           "arrowcolor": "#2a3f5f",
           "arrowhead": 0,
           "arrowwidth": 1
          },
          "autotypenumbers": "strict",
          "coloraxis": {
           "colorbar": {
            "outlinewidth": 0,
            "ticks": ""
           }
          },
          "colorscale": {
           "diverging": [
            [
             0,
             "#8e0152"
            ],
            [
             0.1,
             "#c51b7d"
            ],
            [
             0.2,
             "#de77ae"
            ],
            [
             0.3,
             "#f1b6da"
            ],
            [
             0.4,
             "#fde0ef"
            ],
            [
             0.5,
             "#f7f7f7"
            ],
            [
             0.6,
             "#e6f5d0"
            ],
            [
             0.7,
             "#b8e186"
            ],
            [
             0.8,
             "#7fbc41"
            ],
            [
             0.9,
             "#4d9221"
            ],
            [
             1,
             "#276419"
            ]
           ],
           "sequential": [
            [
             0,
             "#0d0887"
            ],
            [
             0.1111111111111111,
             "#46039f"
            ],
            [
             0.2222222222222222,
             "#7201a8"
            ],
            [
             0.3333333333333333,
             "#9c179e"
            ],
            [
             0.4444444444444444,
             "#bd3786"
            ],
            [
             0.5555555555555556,
             "#d8576b"
            ],
            [
             0.6666666666666666,
             "#ed7953"
            ],
            [
             0.7777777777777778,
             "#fb9f3a"
            ],
            [
             0.8888888888888888,
             "#fdca26"
            ],
            [
             1,
             "#f0f921"
            ]
           ],
           "sequentialminus": [
            [
             0,
             "#0d0887"
            ],
            [
             0.1111111111111111,
             "#46039f"
            ],
            [
             0.2222222222222222,
             "#7201a8"
            ],
            [
             0.3333333333333333,
             "#9c179e"
            ],
            [
             0.4444444444444444,
             "#bd3786"
            ],
            [
             0.5555555555555556,
             "#d8576b"
            ],
            [
             0.6666666666666666,
             "#ed7953"
            ],
            [
             0.7777777777777778,
             "#fb9f3a"
            ],
            [
             0.8888888888888888,
             "#fdca26"
            ],
            [
             1,
             "#f0f921"
            ]
           ]
          },
          "colorway": [
           "#636efa",
           "#EF553B",
           "#00cc96",
           "#ab63fa",
           "#FFA15A",
           "#19d3f3",
           "#FF6692",
           "#B6E880",
           "#FF97FF",
           "#FECB52"
          ],
          "font": {
           "color": "#2a3f5f"
          },
          "geo": {
           "bgcolor": "white",
           "lakecolor": "white",
           "landcolor": "#E5ECF6",
           "showlakes": true,
           "showland": true,
           "subunitcolor": "white"
          },
          "hoverlabel": {
           "align": "left"
          },
          "hovermode": "closest",
          "mapbox": {
           "style": "light"
          },
          "paper_bgcolor": "white",
          "plot_bgcolor": "#E5ECF6",
          "polar": {
           "angularaxis": {
            "gridcolor": "white",
            "linecolor": "white",
            "ticks": ""
           },
           "bgcolor": "#E5ECF6",
           "radialaxis": {
            "gridcolor": "white",
            "linecolor": "white",
            "ticks": ""
           }
          },
          "scene": {
           "xaxis": {
            "backgroundcolor": "#E5ECF6",
            "gridcolor": "white",
            "gridwidth": 2,
            "linecolor": "white",
            "showbackground": true,
            "ticks": "",
            "zerolinecolor": "white"
           },
           "yaxis": {
            "backgroundcolor": "#E5ECF6",
            "gridcolor": "white",
            "gridwidth": 2,
            "linecolor": "white",
            "showbackground": true,
            "ticks": "",
            "zerolinecolor": "white"
           },
           "zaxis": {
            "backgroundcolor": "#E5ECF6",
            "gridcolor": "white",
            "gridwidth": 2,
            "linecolor": "white",
            "showbackground": true,
            "ticks": "",
            "zerolinecolor": "white"
           }
          },
          "shapedefaults": {
           "line": {
            "color": "#2a3f5f"
           }
          },
          "ternary": {
           "aaxis": {
            "gridcolor": "white",
            "linecolor": "white",
            "ticks": ""
           },
           "baxis": {
            "gridcolor": "white",
            "linecolor": "white",
            "ticks": ""
           },
           "bgcolor": "#E5ECF6",
           "caxis": {
            "gridcolor": "white",
            "linecolor": "white",
            "ticks": ""
           }
          },
          "title": {
           "x": 0.05
          },
          "xaxis": {
           "automargin": true,
           "gridcolor": "white",
           "linecolor": "white",
           "ticks": "",
           "title": {
            "standoff": 15
           },
           "zerolinecolor": "white",
           "zerolinewidth": 2
          },
          "yaxis": {
           "automargin": true,
           "gridcolor": "white",
           "linecolor": "white",
           "ticks": "",
           "title": {
            "standoff": 15
           },
           "zerolinecolor": "white",
           "zerolinewidth": 2
          }
         }
        },
        "title": {
         "text": "TMAX vs Demand"
        },
        "xaxis": {
         "anchor": "y",
         "domain": [
          0,
          1
         ],
         "title": {
          "text": "TMAX"
         }
        },
        "yaxis": {
         "anchor": "x",
         "domain": [
          0,
          1
         ],
         "title": {
          "text": "demand"
         }
        }
       }
      }
     },
     "metadata": {},
     "output_type": "display_data"
    }
   ],
   "source": [
    "# Visualize TMAX vs Demand using Plotly\n",
    "import plotly.express as px\n",
    "\n",
    "fig = px.scatter(\n",
    "    df_combined,\n",
    "    x=\"TMAX\", y=\"demand\",\n",
    "    trendline=\"ols\",\n",
    "    title=\"TMAX vs Demand\"\n",
    ")\n",
    "fig.show()\n"
   ]
  },
  {
   "cell_type": "code",
   "execution_count": 11,
   "id": "f8b3f4a3",
   "metadata": {},
   "outputs": [
    {
     "data": {
      "image/png": "[encoded data removed]",
      "text/plain": [
       "<Figure size 1000x500 with 2 Axes>"
      ]
     },
     "metadata": {},
     "output_type": "display_data"
    }
   ],
   "source": [
    "# Visualize TMAX vs Demand using Matplotlib\n",
    "import matplotlib.pyplot as plt\n",
    "\n",
    "fig, ax1 = plt.subplots(figsize=(10,5))\n",
    "ax2 = ax1.twinx()\n",
    "\n",
    "ax1.plot(df_combined[\"date\"], df_combined[\"TMAX\"], label=\"TMAX\", color=\"tab:blue\")\n",
    "ax2.plot(df_combined[\"date\"], df_combined[\"demand\"], label=\"Demand\", linestyle=\"--\", color=\"tab:red\")\n",
    "\n",
    "ax1.set_xlabel(\"Date\")\n",
    "ax1.set_ylabel(\"Temperature (°F)\", color=\"tab:blue\")\n",
    "ax2.set_ylabel(\"Demand\", color=\"tab:red\")\n",
    "plt.title(\"Daily Temperature & Energy Demand\")\n",
    "ax1.legend(loc=\"upper left\")\n",
    "ax2.legend(loc=\"upper right\")\n",
    "plt.show()\n"
   ]
  },
  {
   "cell_type": "code",
   "execution_count": 14,
   "id": "e7aec665",
   "metadata": {},
   "outputs": [
    {
     "data": {
      "image/png": "[encoded data removed]",
      "text/plain": [
       "<Figure size 800x600 with 2 Axes>"
      ]
     },
     "metadata": {},
     "output_type": "display_data"
    }
   ],
   "source": [
    "import seaborn as sns\n",
    "import matplotlib.pyplot as plt\n",
    "\n",
    "df_h = df_combined.copy()\n",
    "\n",
    "# 1) Ensure demand is numeric\n",
    "df_h[\"demand\"] = pd.to_numeric(df_h[\"demand\"], errors=\"coerce\")\n",
    "\n",
    "# 2) Compute weekday and temperature bin\n",
    "df_h[\"weekday\"] = df_h[\"date\"].dt.day_name()\n",
    "df_h[\"temp_bin\"] = pd.cut(\n",
    "    (df_h[\"TMAX\"] + df_h[\"TMIN\"]) / 2,\n",
    "    bins=[-float(\"inf\"), 50, 60, 70, 80, 90, float(\"inf\")],\n",
    "    labels=[\"<50°F\", \"50-60°F\", \"60-70°F\", \"70-80°F\", \"80-90°F\", \">90°F\"]\n",
    ")\n",
    "\n",
    "# 3) Group & pivot, explicitly including all categories\n",
    "pivot = (\n",
    "    df_h\n",
    "    .groupby([\"temp_bin\", \"weekday\"], observed=False)[\"demand\"]\n",
    "    .mean()\n",
    "    .reset_index()\n",
    "    .pivot(index=\"temp_bin\", columns=\"weekday\", values=\"demand\")\n",
    ")\n",
    "\n",
    "# 4) Plot\n",
    "plt.figure(figsize=(8,6))\n",
    "sns.heatmap(pivot, annot=True, fmt=\".0f\", cmap=\"coolwarm\")\n",
    "plt.title(\"Avg Demand by Temp Bin & Weekday\")\n",
    "plt.show()\n"
   ]
  },
  {
   "cell_type": "code",
   "execution_count": 17,
   "id": "f6de4436",
   "metadata": {},
   "outputs": [
    {
     "data": {
      "application/vnd.plotly.v1+json": {
       "config": {
        "plotlyServerURL": "https://plot.ly"
       },
       "data": [
        {
         "geo": "geo",
         "hovertemplate": "<b>%{hovertext}</b><br><br>demand=%{marker.size}<br>lat=%{lat}<br>lon=%{lon}<extra></extra>",
         "hovertext": [
          "New York"
         ],
         "lat": {
          "bdata": "XkvIBz1bREA=",
          "dtype": "f8"
         },
         "legendgroup": "",
         "lon": {
          "bdata": "qvHSTWKAUsA=",
          "dtype": "f8"
         },
         "marker": {
          "color": "#636efa",
          "size": {
           "bdata": "i1wJAA==",
           "dtype": "i4"
          },
          "sizemode": "area",
          "sizeref": 1533.7875,
          "symbol": "circle"
         },
         "mode": "markers",
         "name": "",
         "showlegend": false,
         "type": "scattergeo"
        }
       ],
       "layout": {
        "geo": {
         "center": {},
         "domain": {
          "x": [
           0,
           1
          ],
          "y": [
           0,
           1
          ]
         },
         "scope": "usa"
        },
        "legend": {
         "itemsizing": "constant",
         "tracegroupgap": 0
        },
        "template": {
         "data": {
          "bar": [
           {
            "error_x": {
             "color": "#2a3f5f"
            },
            "error_y": {
             "color": "#2a3f5f"
            },
            "marker": {
             "line": {
              "color": "#E5ECF6",
              "width": 0.5
             },
             "pattern": {
              "fillmode": "overlay",
              "size": 10,
              "solidity": 0.2
             }
            },
            "type": "bar"
           }
          ],
          "barpolar": [
           {
            "marker": {
             "line": {
              "color": "#E5ECF6",
              "width": 0.5
             },
             "pattern": {
              "fillmode": "overlay",
              "size": 10,
              "solidity": 0.2
             }
            },
            "type": "barpolar"
           }
          ],
          "carpet": [
           {
            "aaxis": {
             "endlinecolor": "#2a3f5f",
             "gridcolor": "white",
             "linecolor": "white",
             "minorgridcolor": "white",
             "startlinecolor": "#2a3f5f"
            },
            "baxis": {
             "endlinecolor": "#2a3f5f",
             "gridcolor": "white",
             "linecolor": "white",
             "minorgridcolor": "white",
             "startlinecolor": "#2a3f5f"
            },
            "type": "carpet"
           }
          ],
          "choropleth": [
           {
            "colorbar": {
             "outlinewidth": 0,
             "ticks": ""
            },
            "type": "choropleth"
           }
          ],
          "contour": [
           {
            "colorbar": {
             "outlinewidth": 0,
             "ticks": ""
            },
            "colorscale": [
             [
              0,
              "#0d0887"
             ],
             [
              0.1111111111111111,
              "#46039f"
             ],
             [
              0.2222222222222222,
              "#7201a8"
             ],
             [
              0.3333333333333333,
              "#9c179e"
             ],
             [
              0.4444444444444444,
              "#bd3786"
             ],
             [
              0.5555555555555556,
              "#d8576b"
             ],
             [
              0.6666666666666666,
              "#ed7953"
             ],
             [
              0.7777777777777778,
              "#fb9f3a"
             ],
             [
              0.8888888888888888,
              "#fdca26"
             ],
             [
              1,
              "#f0f921"
             ]
            ],
            "type": "contour"
           }
          ],
          "contourcarpet": [
           {
            "colorbar": {
             "outlinewidth": 0,
             "ticks": ""
            },
            "type": "contourcarpet"
           }
          ],
          "heatmap": [
           {
            "colorbar": {
             "outlinewidth": 0,
             "ticks": ""
            },
            "colorscale": [
             [
              0,
              "#0d0887"
             ],
             [
              0.1111111111111111,
              "#46039f"
             ],
             [
              0.2222222222222222,
              "#7201a8"
             ],
             [
              0.3333333333333333,
              "#9c179e"
             ],
             [
              0.4444444444444444,
              "#bd3786"
             ],
             [
              0.5555555555555556,
              "#d8576b"
             ],
             [
              0.6666666666666666,
              "#ed7953"
             ],
             [
              0.7777777777777778,
              "#fb9f3a"
             ],
             [
              0.8888888888888888,
              "#fdca26"
             ],
             [
              1,
              "#f0f921"
             ]
            ],
            "type": "heatmap"
           }
          ],
          "histogram": [
           {
            "marker": {
             "pattern": {
              "fillmode": "overlay",
              "size": 10,
              "solidity": 0.2
             }
            },
            "type": "histogram"
           }
          ],
          "histogram2d": [
           {
            "colorbar": {
             "outlinewidth": 0,
             "ticks": ""
            },
            "colorscale": [
             [
              0,
              "#0d0887"
             ],
             [
              0.1111111111111111,
              "#46039f"
             ],
             [
              0.2222222222222222,
              "#7201a8"
             ],
             [
              0.3333333333333333,
              "#9c179e"
             ],
             [
              0.4444444444444444,
              "#bd3786"
             ],
             [
              0.5555555555555556,
              "#d8576b"
             ],
             [
              0.6666666666666666,
              "#ed7953"
             ],
             [
              0.7777777777777778,
              "#fb9f3a"
             ],
             [
              0.8888888888888888,
              "#fdca26"
             ],
             [
              1,
              "#f0f921"
             ]
            ],
            "type": "histogram2d"
           }
          ],
          "histogram2dcontour": [
           {
            "colorbar": {
             "outlinewidth": 0,
             "ticks": ""
            },
            "colorscale": [
             [
              0,
              "#0d0887"
             ],
             [
              0.1111111111111111,
              "#46039f"
             ],
             [
              0.2222222222222222,
              "#7201a8"
             ],
             [
              0.3333333333333333,
              "#9c179e"
             ],
             [
              0.4444444444444444,
              "#bd3786"
             ],
             [
              0.5555555555555556,
              "#d8576b"
             ],
             [
              0.6666666666666666,
              "#ed7953"
             ],
             [
              0.7777777777777778,
              "#fb9f3a"
             ],
             [
              0.8888888888888888,
              "#fdca26"
             ],
             [
              1,
              "#f0f921"
             ]
            ],
            "type": "histogram2dcontour"
           }
          ],
          "mesh3d": [
           {
            "colorbar": {
             "outlinewidth": 0,
             "ticks": ""
            },
            "type": "mesh3d"
           }
          ],
          "parcoords": [
           {
            "line": {
             "colorbar": {
              "outlinewidth": 0,
              "ticks": ""
             }
            },
            "type": "parcoords"
           }
          ],
          "pie": [
           {
            "automargin": true,
            "type": "pie"
           }
          ],
          "scatter": [
           {
            "fillpattern": {
             "fillmode": "overlay",
             "size": 10,
             "solidity": 0.2
            },
            "type": "scatter"
           }
          ],
          "scatter3d": [
           {
            "line": {
             "colorbar": {
              "outlinewidth": 0,
              "ticks": ""
             }
            },
            "marker": {
             "colorbar": {
              "outlinewidth": 0,
              "ticks": ""
             }
            },
            "type": "scatter3d"
           }
          ],
          "scattercarpet": [
           {
            "marker": {
             "colorbar": {
              "outlinewidth": 0,
              "ticks": ""
             }
            },
            "type": "scattercarpet"
           }
          ],
          "scattergeo": [
           {
            "marker": {
             "colorbar": {
              "outlinewidth": 0,
              "ticks": ""
             }
            },
            "type": "scattergeo"
           }
          ],
          "scattergl": [
           {
            "marker": {
             "colorbar": {
              "outlinewidth": 0,
              "ticks": ""
             }
            },
            "type": "scattergl"
           }
          ],
          "scattermap": [
           {
            "marker": {
             "colorbar": {
              "outlinewidth": 0,
              "ticks": ""
             }
            },
            "type": "scattermap"
           }
          ],
          "scattermapbox": [
           {
            "marker": {
             "colorbar": {
              "outlinewidth": 0,
              "ticks": ""
             }
            },
            "type": "scattermapbox"
           }
          ],
          "scatterpolar": [
           {
            "marker": {
             "colorbar": {
              "outlinewidth": 0,
              "ticks": ""
             }
            },
            "type": "scatterpolar"
           }
          ],
          "scatterpolargl": [
           {
            "marker": {
             "colorbar": {
              "outlinewidth": 0,
              "ticks": ""
             }
            },
            "type": "scatterpolargl"
           }
          ],
          "scatterternary": [
           {
            "marker": {
             "colorbar": {
              "outlinewidth": 0,
              "ticks": ""
             }
            },
            "type": "scatterternary"
           }
          ],
          "surface": [
           {
            "colorbar": {
             "outlinewidth": 0,
             "ticks": ""
            },
            "colorscale": [
             [
              0,
              "#0d0887"
             ],
             [
              0.1111111111111111,
              "#46039f"
             ],
             [
              0.2222222222222222,
              "#7201a8"
             ],
             [
              0.3333333333333333,
              "#9c179e"
             ],
             [
              0.4444444444444444,
              "#bd3786"
             ],
             [
              0.5555555555555556,
              "#d8576b"
             ],
             [
              0.6666666666666666,
              "#ed7953"
             ],
             [
              0.7777777777777778,
              "#fb9f3a"
             ],
             [
              0.8888888888888888,
              "#fdca26"
             ],
             [
              1,
              "#f0f921"
             ]
            ],
            "type": "surface"
           }
          ],
          "table": [
           {
            "cells": {
             "fill": {
              "color": "#EBF0F8"
             },
             "line": {
              "color": "white"
             }
            },
            "header": {
             "fill": {
              "color": "#C8D4E3"
             },
             "line": {
              "color": "white"
             }
            },
            "type": "table"
           }
          ]
         },
         "layout": {
          "annotationdefaults": {
           "arrowcolor": "#2a3f5f",
           "arrowhead": 0,
           "arrowwidth": 1
          },
          "autotypenumbers": "strict",
          "coloraxis": {
           "colorbar": {
            "outlinewidth": 0,
            "ticks": ""
           }
          },
          "colorscale": {
           "diverging": [
            [
             0,
             "#8e0152"
            ],
            [
             0.1,
             "#c51b7d"
            ],
            [
             0.2,
             "#de77ae"
            ],
            [
             0.3,
             "#f1b6da"
            ],
            [
             0.4,
             "#fde0ef"
            ],
            [
             0.5,
             "#f7f7f7"
            ],
            [
             0.6,
             "#e6f5d0"
            ],
            [
             0.7,
             "#b8e186"
            ],
            [
             0.8,
             "#7fbc41"
            ],
            [
             0.9,
             "#4d9221"
            ],
            [
             1,
             "#276419"
            ]
           ],
           "sequential": [
            [
             0,
             "#0d0887"
            ],
            [
             0.1111111111111111,
             "#46039f"
            ],
            [
             0.2222222222222222,
             "#7201a8"
            ],
            [
             0.3333333333333333,
             "#9c179e"
            ],
            [
             0.4444444444444444,
             "#bd3786"
            ],
            [
             0.5555555555555556,
             "#d8576b"
            ],
            [
             0.6666666666666666,
             "#ed7953"
            ],
            [
             0.7777777777777778,
             "#fb9f3a"
            ],
            [
             0.8888888888888888,
             "#fdca26"
            ],
            [
             1,
             "#f0f921"
            ]
           ],
           "sequentialminus": [
            [
             0,
             "#0d0887"
            ],
            [
             0.1111111111111111,
             "#46039f"
            ],
            [
             0.2222222222222222,
             "#7201a8"
            ],
            [
             0.3333333333333333,
             "#9c179e"
            ],
            [
             0.4444444444444444,
             "#bd3786"
            ],
            [
             0.5555555555555556,
             "#d8576b"
            ],
            [
             0.6666666666666666,
             "#ed7953"
            ],
            [
             0.7777777777777778,
             "#fb9f3a"
            ],
            [
             0.8888888888888888,
             "#fdca26"
            ],
            [
             1,
             "#f0f921"
            ]
           ]
          },
          "colorway": [
           "#636efa",
           "#EF553B",
           "#00cc96",
           "#ab63fa",
           "#FFA15A",
           "#19d3f3",
           "#FF6692",
           "#B6E880",
           "#FF97FF",
           "#FECB52"
          ],
          "font": {
           "color": "#2a3f5f"
          },
          "geo": {
           "bgcolor": "white",
           "lakecolor": "white",
           "landcolor": "#E5ECF6",
           "showlakes": true,
           "showland": true,
           "subunitcolor": "white"
          },
          "hoverlabel": {
           "align": "left"
          },
          "hovermode": "closest",
          "mapbox": {
           "style": "light"
          },
          "paper_bgcolor": "white",
          "plot_bgcolor": "#E5ECF6",
          "polar": {
           "angularaxis": {
            "gridcolor": "white",
            "linecolor": "white",
            "ticks": ""
           },
           "bgcolor": "#E5ECF6",
           "radialaxis": {
            "gridcolor": "white",
            "linecolor": "white",
            "ticks": ""
           }
          },
          "scene": {
           "xaxis": {
            "backgroundcolor": "#E5ECF6",
            "gridcolor": "white",
            "gridwidth": 2,
            "linecolor": "white",
            "showbackground": true,
            "ticks": "",
            "zerolinecolor": "white"
           },
           "yaxis": {
            "backgroundcolor": "#E5ECF6",
            "gridcolor": "white",
            "gridwidth": 2,
            "linecolor": "white",
            "showbackground": true,
            "ticks": "",
            "zerolinecolor": "white"
           },
           "zaxis": {
            "backgroundcolor": "#E5ECF6",
            "gridcolor": "white",
            "gridwidth": 2,
            "linecolor": "white",
            "showbackground": true,
            "ticks": "",
            "zerolinecolor": "white"
           }
          },
          "shapedefaults": {
           "line": {
            "color": "#2a3f5f"
           }
          },
          "ternary": {
           "aaxis": {
            "gridcolor": "white",
            "linecolor": "white",
            "ticks": ""
           },
           "baxis": {
            "gridcolor": "white",
            "linecolor": "white",
            "ticks": ""
           },
           "bgcolor": "#E5ECF6",
           "caxis": {
            "gridcolor": "white",
            "linecolor": "white",
            "ticks": ""
           }
          },
          "title": {
           "x": 0.05
          },
          "xaxis": {
           "automargin": true,
           "gridcolor": "white",
           "linecolor": "white",
           "ticks": "",
           "title": {
            "standoff": 15
           },
           "zerolinecolor": "white",
           "zerolinewidth": 2
          },
          "yaxis": {
           "automargin": true,
           "gridcolor": "white",
           "linecolor": "white",
           "ticks": "",
           "title": {
            "standoff": 15
           },
           "zerolinecolor": "white",
           "zerolinewidth": 2
          }
         }
        },
        "title": {
         "text": "Latest Daily Demand by City"
        }
       }
      }
     },
     "metadata": {},
     "output_type": "display_data"
    }
   ],
   "source": [
    "import plotly.express as px\n",
    "\n",
    "# 1) Ensure demand is numeric\n",
    "df_combined[\"demand\"] = pd.to_numeric(df_combined[\"demand\"], errors=\"coerce\")\n",
    "\n",
    "# 2) City coordinates dictionary\n",
    "city_coords = {\n",
    "    \"new_york\": {\"lat\": 40.7128, \"lon\": -74.0060},\n",
    "    \"chicago\":  {\"lat\": 41.8781, \"lon\": -87.6298},\n",
    "    \"houston\":  {\"lat\": 29.7604, \"lon\": -95.3698},\n",
    "    \"phoenix\":  {\"lat\": 33.4484, \"lon\": -112.0740},\n",
    "    \"seattle\":  {\"lat\": 47.6062, \"lon\": -122.3321},\n",
    "}\n",
    "\n",
    "# 3) Build a small DataFrame for the latest demand of our single city\n",
    "latest = df_combined.iloc[-1]\n",
    "map_df = pd.DataFrame([{\n",
    "    \"City\": city[\"name\"],\n",
    "    \"lat\":  city_coords[slug][\"lat\"],\n",
    "    \"lon\":  city_coords[slug][\"lon\"],\n",
    "    \"demand\": latest[\"demand\"]\n",
    "}])\n",
    "\n",
    "# 4) Plot\n",
    "fig_map = px.scatter_geo(\n",
    "    map_df,\n",
    "    lat=\"lat\",\n",
    "    lon=\"lon\",\n",
    "    scope=\"usa\",\n",
    "    size=\"demand\",\n",
    "    hover_name=\"City\",\n",
    "    title=\"Latest Daily Demand by City\"\n",
    ")\n",
    "fig_map.show()\n"
   ]
  },
  {
   "cell_type": "code",
   "execution_count": null,
   "id": "08ba46f4",
   "metadata": {},
   "outputs": [],
   "source": []
  }
 ],
 "metadata": {
  "kernelspec": {
   "display_name": "praise_venv (3.12.3)",
   "language": "python",
   "name": "python3"
  },
  "language_info": {
   "codemirror_mode": {
    "name": "ipython",
    "version": 3
   },
   "file_extension": ".py",
   "mimetype": "text/x-python",
   "name": "python",
   "nbconvert_exporter": "python",
   "pygments_lexer": "ipython3",
   "version": "3.12.3"
  }
 },
 "nbformat": 4,
 "nbformat_minor": 5
}
