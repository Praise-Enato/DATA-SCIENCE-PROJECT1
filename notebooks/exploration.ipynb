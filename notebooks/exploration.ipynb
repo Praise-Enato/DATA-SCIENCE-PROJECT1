{
 "cells": [
  {
   "cell_type": "markdown",
   "id": "d67c0d30",
   "metadata": {},
   "source": [
    " ## Exploration Notebook \n",
    "        \n",
    "This notebook is where we prototype data ingestion, cleaning, quality checks, and quick visualizations.\n",
    "\n",
    "**Before production-izing into `src/` folder and the Streamlit dashboard.**"
   ]
  },
  {
   "cell_type": "code",
   "execution_count": null,
   "id": "fbd4a89a",
   "metadata": {},
   "outputs": [],
   "source": [
    "# Install Dependencies\n",
    "\n",
    "!pip install pandas requests pyyaml plotly streamlit matplotlib seaborn statsmodels"
   ]
  },
  {
   "cell_type": "code",
   "execution_count": 22,
   "id": "ce036c84",
   "metadata": {},
   "outputs": [],
   "source": [
    "import sys\n",
    "from pathlib import Path\n",
    "\n",
    "# add src/ to import path so we can import our modules\n",
    "sys.path.append(str(Path(\"../src\").resolve()))\n",
    "\n",
    "import pandas as pd\n",
    "import requests\n",
    "import yaml\n",
    "import plotly\n",
    "\n",
    "from data_fetcher import fetch_historical_weather, fetch_historical_energy\n",
    "from data_processor import clean_weather, clean_energy, merge_weather_energy\n",
    "from data_quality_report import generate_report\n"
   ]
  },
  {
   "cell_type": "code",
   "execution_count": 23,
   "id": "f18829ec",
   "metadata": {},
   "outputs": [
    {
     "data": {
      "text/plain": [
       "{'noaa_token': 'hnEImeHklWePrAQiNbFMvcUgwOBFTHKW',\n",
       " 'eia_key': '7nwnphm8ojtAysdsf7Yr8SsifByzVtR4CjeG77TF',\n",
       " 'cities': [{'name': 'New York',\n",
       "   'station_id': 'GHCND:USW00094728',\n",
       "   'region': 'NYIS'},\n",
       "  {'name': 'Chicago', 'station_id': 'GHCND:USW00094846', 'region': 'PJM'},\n",
       "  {'name': 'Houston', 'station_id': 'GHCND:USW00012960', 'region': 'ERCO'},\n",
       "  {'name': 'Phoenix', 'station_id': 'GHCND:USW00023183', 'region': 'AZPS'},\n",
       "  {'name': 'Seattle', 'station_id': 'GHCND:USW00024233', 'region': 'CISO'}]}"
      ]
     },
     "execution_count": 23,
     "metadata": {},
     "output_type": "execute_result"
    }
   ],
   "source": [
    "# Load API keys & city list\n",
    "config = yaml.safe_load(open(\"../config/config.yaml\"))\n",
    "config\n"
   ]
  },
  {
   "cell_type": "code",
   "execution_count": 24,
   "id": "05554f16",
   "metadata": {},
   "outputs": [
    {
     "data": {
      "text/plain": [
       "(datatype                 date   TMAX   TMIN\n",
       " 0         2025-05-05T00:00:00  60.98  57.02\n",
       " 1         2025-05-06T00:00:00  64.04  57.02\n",
       " 2         2025-05-07T00:00:00  73.94  55.04\n",
       " 3         2025-05-08T00:00:00  78.08  60.08\n",
       " 4         2025-05-09T00:00:00  60.08  51.08,\n",
       "          date respondent                       respondent-name type type-name  \\\n",
       " 0  2025-05-05       NYIS  New York Independent System Operator    D    Demand   \n",
       " 1  2025-05-05       NYIS  New York Independent System Operator    D    Demand   \n",
       " 2  2025-05-05       NYIS  New York Independent System Operator    D    Demand   \n",
       " 3  2025-05-05       NYIS  New York Independent System Operator    D    Demand   \n",
       " 4  2025-05-05       NYIS  New York Independent System Operator    D    Demand   \n",
       " \n",
       "    timezone timezone-description  demand    value-units  \n",
       " 0   Arizona              Arizona  375255  megawatthours  \n",
       " 1   Central              Central  372733  megawatthours  \n",
       " 2   Eastern              Eastern  370613  megawatthours  \n",
       " 3  Mountain             Mountain  375309  megawatthours  \n",
       " 4   Pacific              Pacific  375255  megawatthours  )"
      ]
     },
     "execution_count": 24,
     "metadata": {},
     "output_type": "execute_result"
    }
   ],
   "source": [
    "# Pick first city for prototyping\n",
    "city = config[\"cities\"][0]\n",
    "slug = city[\"name\"].lower().replace(\" \", \"_\")\n",
    "\n",
    "# Fetch raw weather and energy\n",
    "df_w = fetch_historical_weather(\n",
    "    station_id=city[\"station_id\"],\n",
    "    days=90,\n",
    "    token=config[\"noaa_token\"]\n",
    ")\n",
    "df_e = fetch_historical_energy(\n",
    "    region=city[\"region\"],\n",
    "    days=90,\n",
    "    api_key=config[\"eia_key\"]\n",
    ")\n",
    "\n",
    "# Preview\n",
    "df_w.head(), df_e.head()\n"
   ]
  },
  {
   "cell_type": "code",
   "execution_count": 25,
   "id": "781bf445",
   "metadata": {},
   "outputs": [
    {
     "name": "stdout",
     "output_type": "stream",
     "text": [
      "Weather shape: (86, 3), Energy shape: (1779, 9)\n",
      "Missing in weather:\n",
      " datatype\n",
      "date    0\n",
      "TMAX    0\n",
      "TMIN    0\n",
      "dtype: int64\n",
      "Missing in energy:\n",
      " date                    0\n",
      "respondent              0\n",
      "respondent-name         0\n",
      "type                    0\n",
      "type-name               0\n",
      "timezone                0\n",
      "timezone-description    0\n",
      "demand                  0\n",
      "value-units             0\n",
      "dtype: int64\n"
     ]
    }
   ],
   "source": [
    "print(f\"Weather shape: {df_w.shape}, Energy shape: {df_e.shape}\")\n",
    "print(\"Missing in weather:\\n\", df_w.isna().sum())\n",
    "print(\"Missing in energy:\\n\", df_e.isna().sum())\n"
   ]
  },
  {
   "cell_type": "code",
   "execution_count": 26,
   "id": "f16a0448",
   "metadata": {},
   "outputs": [
    {
     "data": {
      "application/vnd.microsoft.datawrangler.viewer.v0+json": {
       "columns": [
        {
         "name": "index",
         "rawType": "int64",
         "type": "integer"
        },
        {
         "name": "date",
         "rawType": "datetime64[ns]",
         "type": "datetime"
        },
        {
         "name": "TMAX",
         "rawType": "float64",
         "type": "float"
        },
        {
         "name": "TMIN",
         "rawType": "float64",
         "type": "float"
        },
        {
         "name": "respondent",
         "rawType": "object",
         "type": "string"
        },
        {
         "name": "respondent-name",
         "rawType": "object",
         "type": "string"
        },
        {
         "name": "type",
         "rawType": "object",
         "type": "string"
        },
        {
         "name": "type-name",
         "rawType": "object",
         "type": "string"
        },
        {
         "name": "timezone",
         "rawType": "object",
         "type": "string"
        },
        {
         "name": "timezone-description",
         "rawType": "object",
         "type": "string"
        },
        {
         "name": "demand",
         "rawType": "object",
         "type": "string"
        },
        {
         "name": "value-units",
         "rawType": "object",
         "type": "string"
        }
       ],
       "ref": "0c49ff09-d731-4682-a792-8e1cb9992f3c",
       "rows": [
        [
         "0",
         "2025-05-05 00:00:00",
         "60.980000000000004",
         "57.02",
         "NYIS",
         "New York Independent System Operator",
         "D",
         "Demand",
         "Arizona",
         "Arizona",
         "375255",
         "megawatthours"
        ],
        [
         "1",
         "2025-05-06 00:00:00",
         "64.04",
         "57.02",
         "NYIS",
         "New York Independent System Operator",
         "D",
         "Demand",
         "Arizona",
         "Arizona",
         "360106",
         "megawatthours"
        ],
        [
         "2",
         "2025-05-07 00:00:00",
         "73.94",
         "55.04",
         "NYIS",
         "New York Independent System Operator",
         "D",
         "Demand",
         "Arizona",
         "Arizona",
         "357887",
         "megawatthours"
        ],
        [
         "3",
         "2025-05-08 00:00:00",
         "78.08",
         "60.08",
         "NYIS",
         "New York Independent System Operator",
         "D",
         "Demand",
         "Arizona",
         "Arizona",
         "369593",
         "megawatthours"
        ],
        [
         "4",
         "2025-05-09 00:00:00",
         "60.08",
         "51.08",
         "NYIS",
         "New York Independent System Operator",
         "D",
         "Demand",
         "Arizona",
         "Arizona",
         "371722",
         "megawatthours"
        ]
       ],
       "shape": {
        "columns": 11,
        "rows": 5
       }
      },
      "text/html": [
       "<div>\n",
       "<style scoped>\n",
       "    .dataframe tbody tr th:only-of-type {\n",
       "        vertical-align: middle;\n",
       "    }\n",
       "\n",
       "    .dataframe tbody tr th {\n",
       "        vertical-align: top;\n",
       "    }\n",
       "\n",
       "    .dataframe thead th {\n",
       "        text-align: right;\n",
       "    }\n",
       "</style>\n",
       "<table border=\"1\" class=\"dataframe\">\n",
       "  <thead>\n",
       "    <tr style=\"text-align: right;\">\n",
       "      <th></th>\n",
       "      <th>date</th>\n",
       "      <th>TMAX</th>\n",
       "      <th>TMIN</th>\n",
       "      <th>respondent</th>\n",
       "      <th>respondent-name</th>\n",
       "      <th>type</th>\n",
       "      <th>type-name</th>\n",
       "      <th>timezone</th>\n",
       "      <th>timezone-description</th>\n",
       "      <th>demand</th>\n",
       "      <th>value-units</th>\n",
       "    </tr>\n",
       "  </thead>\n",
       "  <tbody>\n",
       "    <tr>\n",
       "      <th>0</th>\n",
       "      <td>2025-05-05</td>\n",
       "      <td>60.98</td>\n",
       "      <td>57.02</td>\n",
       "      <td>NYIS</td>\n",
       "      <td>New York Independent System Operator</td>\n",
       "      <td>D</td>\n",
       "      <td>Demand</td>\n",
       "      <td>Arizona</td>\n",
       "      <td>Arizona</td>\n",
       "      <td>375255</td>\n",
       "      <td>megawatthours</td>\n",
       "    </tr>\n",
       "    <tr>\n",
       "      <th>1</th>\n",
       "      <td>2025-05-06</td>\n",
       "      <td>64.04</td>\n",
       "      <td>57.02</td>\n",
       "      <td>NYIS</td>\n",
       "      <td>New York Independent System Operator</td>\n",
       "      <td>D</td>\n",
       "      <td>Demand</td>\n",
       "      <td>Arizona</td>\n",
       "      <td>Arizona</td>\n",
       "      <td>360106</td>\n",
       "      <td>megawatthours</td>\n",
       "    </tr>\n",
       "    <tr>\n",
       "      <th>2</th>\n",
       "      <td>2025-05-07</td>\n",
       "      <td>73.94</td>\n",
       "      <td>55.04</td>\n",
       "      <td>NYIS</td>\n",
       "      <td>New York Independent System Operator</td>\n",
       "      <td>D</td>\n",
       "      <td>Demand</td>\n",
       "      <td>Arizona</td>\n",
       "      <td>Arizona</td>\n",
       "      <td>357887</td>\n",
       "      <td>megawatthours</td>\n",
       "    </tr>\n",
       "    <tr>\n",
       "      <th>3</th>\n",
       "      <td>2025-05-08</td>\n",
       "      <td>78.08</td>\n",
       "      <td>60.08</td>\n",
       "      <td>NYIS</td>\n",
       "      <td>New York Independent System Operator</td>\n",
       "      <td>D</td>\n",
       "      <td>Demand</td>\n",
       "      <td>Arizona</td>\n",
       "      <td>Arizona</td>\n",
       "      <td>369593</td>\n",
       "      <td>megawatthours</td>\n",
       "    </tr>\n",
       "    <tr>\n",
       "      <th>4</th>\n",
       "      <td>2025-05-09</td>\n",
       "      <td>60.08</td>\n",
       "      <td>51.08</td>\n",
       "      <td>NYIS</td>\n",
       "      <td>New York Independent System Operator</td>\n",
       "      <td>D</td>\n",
       "      <td>Demand</td>\n",
       "      <td>Arizona</td>\n",
       "      <td>Arizona</td>\n",
       "      <td>371722</td>\n",
       "      <td>megawatthours</td>\n",
       "    </tr>\n",
       "  </tbody>\n",
       "</table>\n",
       "</div>"
      ],
      "text/plain": [
       "        date   TMAX   TMIN respondent                       respondent-name  \\\n",
       "0 2025-05-05  60.98  57.02       NYIS  New York Independent System Operator   \n",
       "1 2025-05-06  64.04  57.02       NYIS  New York Independent System Operator   \n",
       "2 2025-05-07  73.94  55.04       NYIS  New York Independent System Operator   \n",
       "3 2025-05-08  78.08  60.08       NYIS  New York Independent System Operator   \n",
       "4 2025-05-09  60.08  51.08       NYIS  New York Independent System Operator   \n",
       "\n",
       "  type type-name timezone timezone-description  demand    value-units  \n",
       "0    D    Demand  Arizona              Arizona  375255  megawatthours  \n",
       "1    D    Demand  Arizona              Arizona  360106  megawatthours  \n",
       "2    D    Demand  Arizona              Arizona  357887  megawatthours  \n",
       "3    D    Demand  Arizona              Arizona  369593  megawatthours  \n",
       "4    D    Demand  Arizona              Arizona  371722  megawatthours  "
      ]
     },
     "execution_count": 26,
     "metadata": {},
     "output_type": "execute_result"
    }
   ],
   "source": [
    "# Clean and merge\n",
    "cw = clean_weather(df_w)\n",
    "ce = clean_energy(df_e)\n",
    "df_combined = merge_weather_energy(cw, ce)\n",
    "\n",
    "# Preview\n",
    "df_combined.head()\n"
   ]
  },
  {
   "cell_type": "code",
   "execution_count": 27,
   "id": "f242f90f",
   "metadata": {},
   "outputs": [
    {
     "name": "stdout",
     "output_type": "stream",
     "text": [
      "Processed shape: (86, 11)\n",
      "Processed missing:\n",
      " date                    0\n",
      "TMAX                    0\n",
      "TMIN                    0\n",
      "respondent              0\n",
      "respondent-name         0\n",
      "type                    0\n",
      "type-name               0\n",
      "timezone                0\n",
      "timezone-description    0\n",
      "demand                  0\n",
      "value-units             0\n",
      "dtype: int64\n"
     ]
    }
   ],
   "source": [
    "print(f\"Processed shape: {df_combined.shape}\")\n",
    "print(\"Processed missing:\\n\", df_combined.isna().sum())\n"
   ]
  },
  {
   "cell_type": "code",
   "execution_count": 28,
   "id": "11229219",
   "metadata": {},
   "outputs": [
    {
     "name": "stdout",
     "output_type": "stream",
     "text": [
      "{}\n"
     ]
    }
   ],
   "source": [
    "# Generate data quality report\n",
    "import json\n",
    "\n",
    "report = generate_report()\n",
    "print(json.dumps(report, indent=2))\n"
   ]
  },
  {
   "cell_type": "code",
   "execution_count": null,
   "id": "bfd89366",
   "metadata": {},
   "outputs": [],
   "source": [
    "# Visualize TMAX vs Demand using Plotly\n",
    "import plotly.express as px\n",
    "\n",
    "fig = px.scatter(\n",
    "    df_combined,\n",
    "    x=\"TMAX\", y=\"demand\",\n",
    "    trendline=\"ols\",\n",
    "    title=\"TMAX vs Demand\"\n",
    ")\n",
    "fig.show()\n"
   ]
  },
  {
   "cell_type": "code",
   "execution_count": null,
   "id": "f8b3f4a3",
   "metadata": {},
   "outputs": [],
   "source": [
    "# Visualize TMAX vs Demand using Matplotlib\n",
    "import matplotlib.pyplot as plt\n",
    "\n",
    "fig, ax1 = plt.subplots(figsize=(10,5))\n",
    "ax2 = ax1.twinx()\n",
    "\n",
    "ax1.plot(df_combined[\"date\"], df_combined[\"TMAX\"], label=\"TMAX\", color=\"tab:blue\")\n",
    "ax2.plot(df_combined[\"date\"], df_combined[\"demand\"], label=\"Demand\", linestyle=\"--\", color=\"tab:red\")\n",
    "\n",
    "ax1.set_xlabel(\"Date\")\n",
    "ax1.set_ylabel(\"Temperature (°F)\", color=\"tab:blue\")\n",
    "ax2.set_ylabel(\"Demand\", color=\"tab:red\")\n",
    "plt.title(\"Daily Temperature & Energy Demand\")\n",
    "ax1.legend(loc=\"upper left\")\n",
    "ax2.legend(loc=\"upper right\")\n",
    "plt.show()\n"
   ]
  },
  {
   "cell_type": "code",
   "execution_count": null,
   "id": "e7aec665",
   "metadata": {},
   "outputs": [],
   "source": [
    "# Visualize Avg Demand by Temp Bin & Weekday using Seaborn\n",
    "import seaborn as sns\n",
    "import matplotlib.pyplot as plt\n",
    "\n",
    "df_h = df_combined.copy()\n",
    "df_h[\"weekday\"] = df_h[\"date\"].dt.day_name()\n",
    "df_h[\"temp_bin\"] = pd.cut(\n",
    "    (df_h[\"TMAX\"] + df_h[\"TMIN\"]) / 2,\n",
    "    bins=[-float(\"inf\"), 50, 60, 70, 80, 90, float(\"inf\")],\n",
    "    labels=[\"<50°F\",\"50-60°F\",\"60-70°F\",\"70-80°F\",\"80-90°F\",\">90°F\"]\n",
    ")\n",
    "\n",
    "pivot = df_h.groupby([\"temp_bin\",\"weekday\"])[\"demand\"] \\\n",
    "    .mean().reset_index().pivot(index=\"temp_bin\", columns=\"weekday\", values=\"demand\")\n",
    "\n",
    "plt.figure(figsize=(8,6))\n",
    "sns.heatmap(pivot, annot=True, fmt=\".0f\", cmap=\"coolwarm\")\n",
    "plt.title(\"Avg Demand by Temp Bin & Weekday\")\n",
    "plt.show()\n"
   ]
  },
  {
   "cell_type": "code",
   "execution_count": null,
   "id": "f6de4436",
   "metadata": {},
   "outputs": [],
   "source": [
    "# Visualize Demand by City using Plotly\n",
    "import plotly.express as px\n",
    "\n",
    "city_coords = {\n",
    "    \"new_york\": {\"lat\":40.7128, \"lon\":-74.0060},\n",
    "    \"chicago\":  {\"lat\":41.8781, \"lon\":-87.6298},\n",
    "    \"houston\":  {\"lat\":29.7604, \"lon\":-95.3698},\n",
    "    \"phoenix\":  {\"lat\":33.4484, \"lon\":-112.0740},\n",
    "    \"seattle\":  {\"lat\":47.6062, \"lon\":-122.3321},\n",
    "}\n",
    "\n",
    "# Build DataFrame of the latest demand per city\n",
    "map_rows = []\n",
    "latest = df_combined.iloc[-1]  # for one city demo\n",
    "map_rows.append({\n",
    "    \"City\": city[\"name\"],\n",
    "    \"lat\": city_coords[slug][\"lat\"],\n",
    "    \"lon\": city_coords[slug][\"lon\"],\n",
    "    \"demand\": latest.demand\n",
    "})\n",
    "map_df = pd.DataFrame(map_rows)\n",
    "\n",
    "fig_map = px.scatter_geo(\n",
    "    map_df,\n",
    "    lat=\"lat\", lon=\"lon\",\n",
    "    scope=\"usa\",\n",
    "    size=\"demand\",\n",
    "    hover_name=\"City\"\n",
    ")\n",
    "fig_map.show()\n"
   ]
  }
 ],
 "metadata": {
  "kernelspec": {
   "display_name": "praise_venv (3.12.3)",
   "language": "python",
   "name": "python3"
  },
  "language_info": {
   "codemirror_mode": {
    "name": "ipython",
    "version": 3
   },
   "file_extension": ".py",
   "mimetype": "text/x-python",
   "name": "python",
   "nbconvert_exporter": "python",
   "pygments_lexer": "ipython3",
   "version": "3.12.3"
  }
 },
 "nbformat": 4,
 "nbformat_minor": 5
}
